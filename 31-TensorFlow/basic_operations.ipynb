{
 "cells": [
  {
   "cell_type": "code",
   "execution_count": 1,
   "metadata": {
    "collapsed": true
   },
   "outputs": [],
   "source": [
    "# Basic Operations example using TensorFlow library.\n",
    "# Author: Aymeric Damien\n",
    "# Project: https://github.com/aymericdamien/TensorFlow-Examples/"
   ]
  },
  {
   "cell_type": "code",
   "execution_count": 1,
   "metadata": {},
   "outputs": [],
   "source": [
    "import tensorflow as tf"
   ]
  },
  {
   "cell_type": "code",
   "execution_count": 2,
   "metadata": {},
   "outputs": [],
   "source": [
    "# Basic constant operations\n",
    "# The value returned by the constructor represents the output\n",
    "# of the Constant op.\n",
    "a = tf.constant(2)\n",
    "b = tf.constant(3)"
   ]
  },
  {
   "cell_type": "code",
   "execution_count": 3,
   "metadata": {},
   "outputs": [
    {
     "name": "stdout",
     "output_type": "stream",
     "text": [
      "a: 2 b: 3\n",
      "Addition with constants: 5\n",
      "Multiplication with constants: 6\n",
      "10*a + 7*b: 41\n"
     ]
    }
   ],
   "source": [
    "# Launch the default graph.\n",
    "# 启动默认graph（流图）\n",
    "with tf.Session() as sess:\n",
    "    print(\"a: %i\" % sess.run(a), \"b: %i\" % sess.run(b))\n",
    "    print(\"Addition with constants: %i\" % sess.run(a+b))\n",
    "    print(\"Multiplication with constants: %i\" % sess.run(a*b))\n",
    "    print('10*a + 7*b: %i'%sess.run(10*a+7*b))"
   ]
  },
  {
   "cell_type": "markdown",
   "metadata": {},
   "source": [
    "第一种方式，声明常量进行了算数运算\n",
    "第二种方式，声明placeholder，占位符"
   ]
  },
  {
   "cell_type": "code",
   "execution_count": 4,
   "metadata": {},
   "outputs": [],
   "source": [
    "# Basic Operations with variable as graph input\n",
    "# The value returned by the constructor represents the output\n",
    "# of the Variable op. (define as input when running session)\n",
    "# tf Graph input\n",
    "#占位符，值类型确定，值是多少还不知道\n",
    "a = tf.placeholder(tf.int32)\n",
    "b = tf.placeholder(tf.int32)\n",
    "c = tf.placeholder(tf.int32)"
   ]
  },
  {
   "cell_type": "code",
   "execution_count": 5,
   "metadata": {},
   "outputs": [],
   "source": [
    "# Define some operations\n",
    "#定义操作，操作，原理图中的加减操作\n",
    "add = tf.add(a, b)\n",
    "mul = tf.multiply(a, b)\n",
    "div = tf.divide(a,b)\n",
    "sub = tf.subtract(a,b)"
   ]
  },
  {
   "cell_type": "code",
   "execution_count": 7,
   "metadata": {},
   "outputs": [
    {
     "name": "stdout",
     "output_type": "stream",
     "text": [
      "25\n",
      "-5\n"
     ]
    }
   ],
   "source": [
    "#进行运算的时候进行赋值\n",
    "\n",
    "with tf.Session() as sess:\n",
    "    print(sess.run(add,feed_dict={a:10,b:15}))\n",
    "    print(sess.run(sub,feed_dict={a:10,b:15}))"
   ]
  },
  {
   "cell_type": "code",
   "execution_count": null,
   "metadata": {
    "collapsed": true
   },
   "outputs": [],
   "source": []
  },
  {
   "cell_type": "code",
   "execution_count": null,
   "metadata": {
    "collapsed": true
   },
   "outputs": [],
   "source": []
  },
  {
   "cell_type": "code",
   "execution_count": 8,
   "metadata": {},
   "outputs": [
    {
     "name": "stdout",
     "output_type": "stream",
     "text": [
      "Addition with variables: 5\n",
      "Multiplication with variables: 6\n",
      "div : 2\n",
      "subtract: 512\n"
     ]
    }
   ],
   "source": [
    "# Launch the default graph.\n",
    "#启动具体操作\n",
    "with tf.Session() as sess:\n",
    "    # Run every operation with variable input\n",
    "    print(\"Addition with variables: %i\" % sess.run(add, feed_dict={a: 2, b: 3}))\n",
    "    print(\"Multiplication with variables: %i\" % sess.run(mul, feed_dict={a: 2, b: 3}))\n",
    "    print('div : %i'%sess.run(div,feed_dict={a:14,b:7}))\n",
    "    print('subtract: %i'%sess.run(sub,feed_dict = {a:1024,b:512}))"
   ]
  },
  {
   "cell_type": "code",
   "execution_count": 9,
   "metadata": {},
   "outputs": [],
   "source": [
    "# ----------------\n",
    "# More in details:\n",
    "# Matrix Multiplication from TensorFlow official tutorial\n",
    "\n",
    "# Create a Constant op that produces a 1x2 matrix.  The op is\n",
    "# added as a node to the default graph.\n",
    "#\n",
    "# The value returned by the constructor represents the output\n",
    "# of the Constant op.\n",
    "#Tensor可以声明矩阵\n",
    "import numpy as np\n",
    "a = np.array([1,2,3,4,5,6],dtype=float).reshape((1,6))\n",
    "\n",
    "#数据pd读取的真实数据：ndarray组成\n",
    "\n",
    "matrix1 = tf.constant(a)"
   ]
  },
  {
   "cell_type": "code",
   "execution_count": 10,
   "metadata": {},
   "outputs": [],
   "source": [
    "# Create another Constant that produces a 2x1 matrix.\n",
    "\n",
    "b = np.linspace(-np.pi,np.pi,6,dtype=float).reshape((6,1))\n",
    "matrix2 = tf.constant(b)"
   ]
  },
  {
   "cell_type": "code",
   "execution_count": 11,
   "metadata": {},
   "outputs": [],
   "source": [
    "# Create a Matmul op that takes 'matrix1' and 'matrix2' as inputs.\n",
    "# The returned value, 'product', represents the result of the matrix\n",
    "# multiplication.\n",
    "\n",
    "#matmul：矩阵乘法\n",
    "#算数乘法multiply\n",
    "#mat:matrix;mul:multipy\n",
    "matmul = tf.matmul(matrix1, matrix2)\n",
    "add = tf.add(matrix1,matrix2)\n",
    "mul = tf.multiply(matrix1,matrix2)"
   ]
  },
  {
   "cell_type": "code",
   "execution_count": 12,
   "metadata": {},
   "outputs": [
    {
     "name": "stdout",
     "output_type": "stream",
     "text": [
      "[[21.99114858]]\n",
      "[[-2.14159265 -1.14159265 -0.14159265  0.85840735  1.85840735  2.85840735]\n",
      " [-0.88495559  0.11504441  1.11504441  2.11504441  3.11504441  4.11504441]\n",
      " [ 0.37168147  1.37168147  2.37168147  3.37168147  4.37168147  5.37168147]\n",
      " [ 1.62831853  2.62831853  3.62831853  4.62831853  5.62831853  6.62831853]\n",
      " [ 2.88495559  3.88495559  4.88495559  5.88495559  6.88495559  7.88495559]\n",
      " [ 4.14159265  5.14159265  6.14159265  7.14159265  8.14159265  9.14159265]]\n",
      "  \n",
      "[[ -3.14159265  -6.28318531  -9.42477796 -12.56637061 -15.70796327\n",
      "  -18.84955592]\n",
      " [ -1.88495559  -3.76991118  -5.65486678  -7.53982237  -9.42477796\n",
      "  -11.30973355]\n",
      " [ -0.62831853  -1.25663706  -1.88495559  -2.51327412  -3.14159265\n",
      "   -3.76991118]\n",
      " [  0.62831853   1.25663706   1.88495559   2.51327412   3.14159265\n",
      "    3.76991118]\n",
      " [  1.88495559   3.76991118   5.65486678   7.53982237   9.42477796\n",
      "   11.30973355]\n",
      " [  3.14159265   6.28318531   9.42477796  12.56637061  15.70796327\n",
      "   18.84955592]]\n"
     ]
    }
   ],
   "source": [
    "# To run the matmul op we call the session 'run()' method, passing 'product'\n",
    "# which represents the output of the matmul op.  This indicates to the call\n",
    "# that we want to get the output of the matmul op back.\n",
    "#\n",
    "# All inputs needed by the op are run automatically by the session.  They\n",
    "# typically are run in parallel.\n",
    "#\n",
    "# The call 'run(product)' thus causes the execution of threes ops in the\n",
    "# graph: the two constants and matmul.\n",
    "#\n",
    "# The output of the op is returned in 'result' as a numpy `ndarray` object.\n",
    "\n",
    "#开启会话，执行运算\n",
    "with tf.Session() as sess:\n",
    "    print(sess.run(matmul))\n",
    "    print(sess.run(add))\n",
    "    print(\"  \")\n",
    "    print(sess.run(mul))"
   ]
  }
 ],
 "metadata": {
  "kernelspec": {
   "display_name": "Python 3",
   "language": "python",
   "name": "python3"
  },
  "language_info": {
   "codemirror_mode": {
    "name": "ipython",
    "version": 3
   },
   "file_extension": ".py",
   "mimetype": "text/x-python",
   "name": "python",
   "nbconvert_exporter": "python",
   "pygments_lexer": "ipython3",
   "version": "3.7.3"
  }
 },
 "nbformat": 4,
 "nbformat_minor": 1
}
